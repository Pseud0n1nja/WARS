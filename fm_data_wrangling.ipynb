{
 "cells": [
  {
   "cell_type": "markdown",
   "metadata": {},
   "source": [
    "## Data"
   ]
  },
  {
   "cell_type": "markdown",
   "metadata": {},
   "source": [
    "Similar to our previous recommendation systems, we are going to use subsets of the full data set for education and development from [MovieLens](https://grouplens.org/datasets/movielens/). "
   ]
  },
  {
   "cell_type": "code",
   "execution_count": 1,
   "metadata": {},
   "outputs": [],
   "source": [
    "import pandas as pd\n",
    "import numpy as np\n",
    "from datetime import datetime\n",
    "import matplotlib.pyplot as plt\n",
    "import collections"
   ]
  },
  {
   "cell_type": "code",
   "execution_count": 2,
   "metadata": {},
   "outputs": [],
   "source": [
    "df_ratings = pd.read_csv('movie_data/ratings.csv')\n",
    "df_movies = pd.read_csv('movie_data/movies.csv')\n",
    "df_tags = pd.read_csv('movie_data/tags.csv')\n",
    "df_genome_scores = pd.read_csv('movie_data/genome-scores.csv')\n",
    "df_genome_tags = pd.read_csv('movie_data/genome-tags.csv')\n",
    "df_genome = pd.merge(df_genome_scores, df_genome_tags, on='tagId', how='inner')"
   ]
  },
  {
   "cell_type": "markdown",
   "metadata": {},
   "source": [
    "From previous experience we know that people can change their preferences and opinions over time. Therefore, to ensure the quality of our data, we will use only ratings given since 2016."
   ]
  },
  {
   "cell_type": "code",
   "execution_count": 3,
   "metadata": {},
   "outputs": [],
   "source": [
    "def get_year(ts):\n",
    "    return datetime.fromtimestamp(int(ts)).year\n",
    "\n",
    "df_ratings['year'] = df_ratings['timestamp'].apply(get_year)\n",
    "min_year = 2016\n",
    "df_ratings = df_ratings[df_ratings.year >= min_year][['userId', 'movieId', 'rating']]"
   ]
  },
  {
   "cell_type": "code",
   "execution_count": 4,
   "metadata": {},
   "outputs": [],
   "source": [
    "def get_genres_dict(df_movies):\n",
    "    genres_values = df_movies['genres'].map(lambda x: x.split('|')).values\n",
    "    genres = list(set(\n",
    "        [genre for movie_genres in genres_values for genre in movie_genres if genre != \"(no genres listed)\"]\n",
    "    ))\n",
    "    genres_dict = {genres[i]: i for i in range(0,len(genres))}\n",
    "    return(genres_dict)\n",
    "\n",
    "def get_popular_tags_dict(df_tags, number):\n",
    "    df_popular_tags = df_tags.groupby('tag').userId.count().reset_index()\\\n",
    "        .sort_values(by=['userId'], ascending=False)\\\n",
    "        .head(number)\n",
    "    popular_tags = df_popular_tags['tag'].values\n",
    "    pop_tags_dict = {popular_tags[i]: i for i in range(0,len(popular_tags))}\n",
    "    return(pop_tags_dict)\n",
    "\n",
    "def get_relevant_tags_dict(df_genome, number):\n",
    "    df_relevant_tags = df_genome.groupby('tag').relevance.mean().reset_index()\\\n",
    "        .sort_values(by=['relevance'], ascending=False)\\\n",
    "        .head(number)\n",
    "    relevant_tags = df_relevant_tags['tag'].values\n",
    "    rel_tags_dict = {relevant_tags[i]: i for i in range(0,len(relevant_tags))}\n",
    "    return(rel_tags_dict)\n",
    "\n",
    "genres_dict = get_genres_dict(df_movies)\n",
    "popu_tags_dict = get_popular_tags_dict(df_tags, 150)\n",
    "rel_tags_dict = get_relevant_tags_dict(df_genome, 150)"
   ]
  },
  {
   "cell_type": "markdown",
   "metadata": {},
   "source": [
    "### User Features"
   ]
  },
  {
   "cell_type": "markdown",
   "metadata": {},
   "source": [
    "#### Total movies / Genres features"
   ]
  },
  {
   "cell_type": "code",
   "execution_count": 5,
   "metadata": {},
   "outputs": [
    {
     "data": {
      "text/html": [
       "<div>\n",
       "<style scoped>\n",
       "    .dataframe tbody tr th:only-of-type {\n",
       "        vertical-align: middle;\n",
       "    }\n",
       "\n",
       "    .dataframe tbody tr th {\n",
       "        vertical-align: top;\n",
       "    }\n",
       "\n",
       "    .dataframe thead th {\n",
       "        text-align: right;\n",
       "    }\n",
       "</style>\n",
       "<table border=\"1\" class=\"dataframe\">\n",
       "  <thead>\n",
       "    <tr style=\"text-align: right;\">\n",
       "      <th></th>\n",
       "      <th>userId</th>\n",
       "      <th>movies_perc</th>\n",
       "      <th>genres_features</th>\n",
       "    </tr>\n",
       "  </thead>\n",
       "  <tbody>\n",
       "    <tr>\n",
       "      <th>0</th>\n",
       "      <td>14</td>\n",
       "      <td>0.000399</td>\n",
       "      <td>[0.05, 0.15, 0.05, 0.2, 0.45, 0.0, 0.0, 0.3, 0...</td>\n",
       "    </tr>\n",
       "    <tr>\n",
       "      <th>1</th>\n",
       "      <td>28</td>\n",
       "      <td>0.000479</td>\n",
       "      <td>[0.125, 0.0, 0.125, 0.08333333333333333, 0.541...</td>\n",
       "    </tr>\n",
       "    <tr>\n",
       "      <th>2</th>\n",
       "      <td>34</td>\n",
       "      <td>0.001635</td>\n",
       "      <td>[0.2073170731707317, 0.2926829268292683, 0.121...</td>\n",
       "    </tr>\n",
       "    <tr>\n",
       "      <th>3</th>\n",
       "      <td>36</td>\n",
       "      <td>0.002971</td>\n",
       "      <td>[0.10067114093959731, 0.174496644295302, 0.006...</td>\n",
       "    </tr>\n",
       "    <tr>\n",
       "      <th>4</th>\n",
       "      <td>48</td>\n",
       "      <td>0.003390</td>\n",
       "      <td>[0.052941176470588235, 0.09411764705882353, 0....</td>\n",
       "    </tr>\n",
       "    <tr>\n",
       "      <th>5</th>\n",
       "      <td>67</td>\n",
       "      <td>0.002532</td>\n",
       "      <td>[0.09448818897637795, 0.1732283464566929, 0.03...</td>\n",
       "    </tr>\n",
       "  </tbody>\n",
       "</table>\n",
       "</div>"
      ],
      "text/plain": [
       "   userId  movies_perc                                    genres_features\n",
       "0      14     0.000399  [0.05, 0.15, 0.05, 0.2, 0.45, 0.0, 0.0, 0.3, 0...\n",
       "1      28     0.000479  [0.125, 0.0, 0.125, 0.08333333333333333, 0.541...\n",
       "2      34     0.001635  [0.2073170731707317, 0.2926829268292683, 0.121...\n",
       "3      36     0.002971  [0.10067114093959731, 0.174496644295302, 0.006...\n",
       "4      48     0.003390  [0.052941176470588235, 0.09411764705882353, 0....\n",
       "5      67     0.002532  [0.09448818897637795, 0.1732283464566929, 0.03..."
      ]
     },
     "execution_count": 5,
     "metadata": {},
     "output_type": "execute_result"
    }
   ],
   "source": [
    "def user_movie_genres(df_ratings, df_movies, genres_dict):\n",
    "    df_user_genres_list = genres_list_per_user(df_ratings, df_movies)\n",
    "    df_user_total_movies = total_movies_per_user(df_ratings)\n",
    "    df_user_movies_genres = genres_features_per_user(df_user_genres_list, df_user_total_movies, genres_dict)\n",
    "    total_movies = len(pd.unique(df_ratings.movieId))\n",
    "    df_user_movies_genres['movies_perc'] = df_user_movies_genres.total_movies / total_movies\n",
    "    df_user_movies_genres = df_user_movies_genres[['userId', 'movies_perc', 'genres_features']]\n",
    "    return(df_user_movies_genres)\n",
    "\n",
    "def genres_list_per_user(df_ratings, df_movies):\n",
    "    df_ratings_movies = pd.merge(df_ratings, df_movies, on='movieId', how='left')\n",
    "    df_ratings_movies['genres_list'] = df_ratings_movies['genres'].apply(lambda x:x.split('|'))\n",
    "    df_user_genres_list = df_ratings_movies\\\n",
    "        .groupby('userId')\\\n",
    "        .genres_list\\\n",
    "        .apply(lambda x:[genre for genres in x for genre in genres])\\\n",
    "        .reset_index()\n",
    "    return(df_user_genres_list)\n",
    "\n",
    "def total_movies_per_user(df_ratings):\n",
    "    df_user_total_movies = df_ratings.groupby('userId').movieId.count().reset_index()\n",
    "    df_user_total_movies.rename(columns={'movieId':'total_movies'}, inplace=True)\n",
    "    return(df_user_total_movies)\n",
    "\n",
    "def genres_features_per_user(df_user_genres_list, df_user_total_movies, genres_dict):\n",
    "    df_user_movies_genres = pd.merge(df_user_genres_list, df_user_total_movies, on='userId', how='inner')\n",
    "    df_user_movies_genres['genres_features'] = df_user_movies_genres\\\n",
    "        .apply(lambda x: get_user_genres_features(x['genres_list'], x['total_movies'], genres_dict), axis=1)\n",
    "    return(df_user_movies_genres)\n",
    "\n",
    "def get_user_genres_features(genres_list, total_movies, genres_dict):\n",
    "    genres_num = len(genres_dict)\n",
    "    genres_features = [0.0] * genres_num\n",
    "    genres_list = [genre for genre in genres_list if genre != \"(no genres listed)\"]\n",
    "    genres_freq = collections.Counter(genres_list)\n",
    "    for genre, freq in genres_freq.items():\n",
    "        genres_features[genres_dict[genre]] = freq / total_movies\n",
    "    return(genres_features)\n",
    "\n",
    "df_user_movies_genres = user_movie_genres(df_ratings, df_movies, genres_dict)\n",
    "df_user_movies_genres.head(6)"
   ]
  },
  {
   "cell_type": "markdown",
   "metadata": {},
   "source": [
    "#### Popular Tags Features"
   ]
  },
  {
   "cell_type": "code",
   "execution_count": 8,
   "metadata": {},
   "outputs": [
    {
     "data": {
      "text/html": [
       "<div>\n",
       "<style scoped>\n",
       "    .dataframe tbody tr th:only-of-type {\n",
       "        vertical-align: middle;\n",
       "    }\n",
       "\n",
       "    .dataframe tbody tr th {\n",
       "        vertical-align: top;\n",
       "    }\n",
       "\n",
       "    .dataframe thead th {\n",
       "        text-align: right;\n",
       "    }\n",
       "</style>\n",
       "<table border=\"1\" class=\"dataframe\">\n",
       "  <thead>\n",
       "    <tr style=\"text-align: right;\">\n",
       "      <th></th>\n",
       "      <th>userId</th>\n",
       "      <th>tags_features</th>\n",
       "    </tr>\n",
       "  </thead>\n",
       "  <tbody>\n",
       "    <tr>\n",
       "      <th>0</th>\n",
       "      <td>14</td>\n",
       "      <td>[0.0, 0.0, 0.0, 0.0, 0.0, 0.0, 0.0, 0.0, 0.0, ...</td>\n",
       "    </tr>\n",
       "    <tr>\n",
       "      <th>1</th>\n",
       "      <td>28</td>\n",
       "      <td>[0.0, 0.0, 0.0, 0.0, 0.0, 0.0, 0.0, 0.0, 0.0, ...</td>\n",
       "    </tr>\n",
       "    <tr>\n",
       "      <th>2</th>\n",
       "      <td>34</td>\n",
       "      <td>[0.0, 0.0, 0.0, 0.0, 0.0, 0.0, 0.0, 0.0, 0.0, ...</td>\n",
       "    </tr>\n",
       "    <tr>\n",
       "      <th>3</th>\n",
       "      <td>36</td>\n",
       "      <td>[0.0, 0.0, 0.0, 0.0, 0.0, 0.0, 0.0, 0.0, 0.0, ...</td>\n",
       "    </tr>\n",
       "    <tr>\n",
       "      <th>4</th>\n",
       "      <td>48</td>\n",
       "      <td>[0.0, 0.0, 0.0, 0.0, 0.0, 0.0, 0.0, 0.0, 0.0, ...</td>\n",
       "    </tr>\n",
       "    <tr>\n",
       "      <th>5</th>\n",
       "      <td>67</td>\n",
       "      <td>[0.0, 0.0, 0.0, 0.0, 0.0, 0.0, 0.0, 0.0, 0.0, ...</td>\n",
       "    </tr>\n",
       "  </tbody>\n",
       "</table>\n",
       "</div>"
      ],
      "text/plain": [
       "   userId                                      tags_features\n",
       "0      14  [0.0, 0.0, 0.0, 0.0, 0.0, 0.0, 0.0, 0.0, 0.0, ...\n",
       "1      28  [0.0, 0.0, 0.0, 0.0, 0.0, 0.0, 0.0, 0.0, 0.0, ...\n",
       "2      34  [0.0, 0.0, 0.0, 0.0, 0.0, 0.0, 0.0, 0.0, 0.0, ...\n",
       "3      36  [0.0, 0.0, 0.0, 0.0, 0.0, 0.0, 0.0, 0.0, 0.0, ...\n",
       "4      48  [0.0, 0.0, 0.0, 0.0, 0.0, 0.0, 0.0, 0.0, 0.0, ...\n",
       "5      67  [0.0, 0.0, 0.0, 0.0, 0.0, 0.0, 0.0, 0.0, 0.0, ..."
      ]
     },
     "execution_count": 8,
     "metadata": {},
     "output_type": "execute_result"
    }
   ],
   "source": [
    "def user_tags(df_ratings, df_tags, pop_tags_dict):\n",
    "    df_user_tags_list = tags_list_per_user(df_ratings, df_tags)\n",
    "    df_user_tags = tags_features_per_user(df_user_tags_list, pop_tags_dict)\n",
    "    return(df_user_tags)\n",
    "\n",
    "def tags_list_per_user(df_ratings, df_tags):\n",
    "    df_tags.rename(columns={'timestamp':'tag_timestamp'}, inplace=True)\n",
    "    df_ratings_tags = pd.merge(df_ratings, df_tags, on=['userId','movieId'], how='left')\n",
    "    df_user_tags_list = df_ratings_tags\\\n",
    "        .groupby('userId')\\\n",
    "        .tag\\\n",
    "        .apply(lambda x: [tag for tag in x if tag is not np.nan])\\\n",
    "        .reset_index()\n",
    "    df_user_tags_list.rename(columns={'tag':'tags_list'}, inplace=True)\n",
    "    return(df_user_tags_list)\n",
    "\n",
    "def tags_features_per_user(df_user_tags_list, pop_tags_dict):\n",
    "    df_user_tags_list['tags_features'] = df_user_tags_list\\\n",
    "        .apply(lambda x: get_user_tags_features(x['tags_list'], pop_tags_dict), axis=1)\n",
    "    df_user_tags = df_user_tags_list[['userId', 'tags_features']]\n",
    "    return(df_user_tags)\n",
    "\n",
    "def get_user_tags_features(tags_list, pop_tags_dict):\n",
    "    tags_num = len(pop_tags_dict)\n",
    "    tags_features = [0.0] * tags_num\n",
    "    pop_tags_list = [tag for tag in tags_list if tag in pop_tags_dict.keys()]\n",
    "    tags_freq = collections.Counter(pop_tags_list)\n",
    "    for tag, freq in tags_freq.items():\n",
    "        tags_features[pop_tags_dict[tag]] = freq / len(tags_list)\n",
    "    return(tags_features)\n",
    "\n",
    "df_user_tags = user_tags(df_ratings, df_tags, popu_tags_dict)\n",
    "df_user_tags.head(6)"
   ]
  },
  {
   "cell_type": "markdown",
   "metadata": {},
   "source": [
    "#### Merge features"
   ]
  },
  {
   "cell_type": "code",
   "execution_count": 9,
   "metadata": {},
   "outputs": [
    {
     "data": {
      "text/html": [
       "<div>\n",
       "<style scoped>\n",
       "    .dataframe tbody tr th:only-of-type {\n",
       "        vertical-align: middle;\n",
       "    }\n",
       "\n",
       "    .dataframe tbody tr th {\n",
       "        vertical-align: top;\n",
       "    }\n",
       "\n",
       "    .dataframe thead th {\n",
       "        text-align: right;\n",
       "    }\n",
       "</style>\n",
       "<table border=\"1\" class=\"dataframe\">\n",
       "  <thead>\n",
       "    <tr style=\"text-align: right;\">\n",
       "      <th></th>\n",
       "      <th>userId</th>\n",
       "      <th>features_m</th>\n",
       "      <th>features_mg</th>\n",
       "      <th>features_mgt</th>\n",
       "    </tr>\n",
       "  </thead>\n",
       "  <tbody>\n",
       "    <tr>\n",
       "      <th>0</th>\n",
       "      <td>14</td>\n",
       "      <td>[0.00039880358923230307]</td>\n",
       "      <td>[0.00039880358923230307, 0.05, 0.15, 0.05, 0.2...</td>\n",
       "      <td>[0.00039880358923230307, 0.05, 0.15, 0.05, 0.2...</td>\n",
       "    </tr>\n",
       "    <tr>\n",
       "      <th>1</th>\n",
       "      <td>28</td>\n",
       "      <td>[0.0004785643070787637]</td>\n",
       "      <td>[0.0004785643070787637, 0.125, 0.0, 0.125, 0.0...</td>\n",
       "      <td>[0.0004785643070787637, 0.125, 0.0, 0.125, 0.0...</td>\n",
       "    </tr>\n",
       "    <tr>\n",
       "      <th>2</th>\n",
       "      <td>34</td>\n",
       "      <td>[0.0016350947158524428]</td>\n",
       "      <td>[0.0016350947158524428, 0.2073170731707317, 0....</td>\n",
       "      <td>[0.0016350947158524428, 0.2073170731707317, 0....</td>\n",
       "    </tr>\n",
       "    <tr>\n",
       "      <th>3</th>\n",
       "      <td>36</td>\n",
       "      <td>[0.002971086739780658]</td>\n",
       "      <td>[0.002971086739780658, 0.10067114093959731, 0....</td>\n",
       "      <td>[0.002971086739780658, 0.10067114093959731, 0....</td>\n",
       "    </tr>\n",
       "    <tr>\n",
       "      <th>4</th>\n",
       "      <td>48</td>\n",
       "      <td>[0.003389830508474576]</td>\n",
       "      <td>[0.003389830508474576, 0.052941176470588235, 0...</td>\n",
       "      <td>[0.003389830508474576, 0.052941176470588235, 0...</td>\n",
       "    </tr>\n",
       "  </tbody>\n",
       "</table>\n",
       "</div>"
      ],
      "text/plain": [
       "   userId                features_m  \\\n",
       "0      14  [0.00039880358923230307]   \n",
       "1      28   [0.0004785643070787637]   \n",
       "2      34   [0.0016350947158524428]   \n",
       "3      36    [0.002971086739780658]   \n",
       "4      48    [0.003389830508474576]   \n",
       "\n",
       "                                         features_mg  \\\n",
       "0  [0.00039880358923230307, 0.05, 0.15, 0.05, 0.2...   \n",
       "1  [0.0004785643070787637, 0.125, 0.0, 0.125, 0.0...   \n",
       "2  [0.0016350947158524428, 0.2073170731707317, 0....   \n",
       "3  [0.002971086739780658, 0.10067114093959731, 0....   \n",
       "4  [0.003389830508474576, 0.052941176470588235, 0...   \n",
       "\n",
       "                                        features_mgt  \n",
       "0  [0.00039880358923230307, 0.05, 0.15, 0.05, 0.2...  \n",
       "1  [0.0004785643070787637, 0.125, 0.0, 0.125, 0.0...  \n",
       "2  [0.0016350947158524428, 0.2073170731707317, 0....  \n",
       "3  [0.002971086739780658, 0.10067114093959731, 0....  \n",
       "4  [0.003389830508474576, 0.052941176470588235, 0...  "
      ]
     },
     "execution_count": 9,
     "metadata": {},
     "output_type": "execute_result"
    }
   ],
   "source": [
    "def user_features(df_ratings, df_movies, df_tags, genres_dict, pop_tags_dict):\n",
    "    df_user_movies_genres = user_movie_genres(df_ratings, df_movies, genres_dict)\n",
    "    df_user_tags = user_tags(df_ratings, df_tags, pop_tags_dict)\n",
    "    df_user_mgt = pd.merge(df_user_movies_genres, df_user_tags, on='userId', how='inner')\n",
    "    df_user_mgt['features_m'] = df_user_mgt.apply(lambda x: [x['movies_perc']], axis=1)\n",
    "    df_user_mgt['features_mg'] = df_user_mgt.\\\n",
    "            apply(lambda x: [x['movies_perc']] + x['genres_features'], axis=1)\n",
    "    df_user_mgt['features_mgt'] = df_user_mgt.\\\n",
    "            apply(lambda x: [x['movies_perc']] + x['genres_features'] + x['tags_features'], axis=1)\n",
    "    df_user_features = df_user_mgt[['userId','features_m','features_mg','features_mgt']]\n",
    "    return(df_user_features)\n",
    "\n",
    "df_user_features = user_features(df_ratings, df_movies, df_tags, genres_dict, popu_tags_dict)\n",
    "df_user_features.head(5)"
   ]
  },
  {
   "cell_type": "markdown",
   "metadata": {},
   "source": [
    "### Movie Features"
   ]
  },
  {
   "cell_type": "markdown",
   "metadata": {},
   "source": [
    "#### Total users features"
   ]
  },
  {
   "cell_type": "code",
   "execution_count": null,
   "metadata": {},
   "outputs": [],
   "source": [
    "def movie_users(df_ratings):\n",
    "    total_users = len(pd.unique(df_ratings.userId))\n",
    "    df_movie_users = df_ratings.groupby('movieId').userId.count().reset_index()\n",
    "    df_movie_users.rename(columns={'userId':'total_users'}, inplace=True)\n",
    "    df_movie_users['users_perc'] = df_movie_users.total_users / total_users\n",
    "    df_movie_users = df_movie_users[['movieId', 'users_perc']]\n",
    "    return(df_movie_users)\n",
    "\n",
    "df_movie_users = movie_users(df_ratings)\n",
    "df_movie_users.head(5)"
   ]
  },
  {
   "cell_type": "markdown",
   "metadata": {},
   "source": [
    "#### Genres Features"
   ]
  },
  {
   "cell_type": "code",
   "execution_count": null,
   "metadata": {},
   "outputs": [],
   "source": [
    "def movie_genres(df_ratings, df_movies, genres_dict):\n",
    "    df_rating_movies = df_ratings[['movieId']].drop_duplicates(keep='first')\n",
    "    df_movie_genres = pd.merge(df_rating_movies, df_movies, on='movieId', how='inner')\n",
    "    df_movie_genres['genres_features'] = df_movie_genres\\\n",
    "        .apply(lambda x: get_movie_genres_features(x['genres'], genres_dict), axis=1)\n",
    "    df_movie_genres = df_movie_genres[['movieId', 'genres_features']]\n",
    "    return(df_movie_genres)\n",
    "\n",
    "def get_movie_genres_features(genres_str, genres_dict):\n",
    "    genres_num = len(genres_dict)\n",
    "    genres_features = [0] * genres_num\n",
    "    genres_list = [genre for genre in genres_str.split('|') if genre != \"(no genres listed)\"]\n",
    "    for genre in genres_list:\n",
    "        genres_features[genres_dict[genre]] = 1 / len(genres_list)\n",
    "    return(genres_features)\n",
    "\n",
    "df_movie_genres = movie_genres(df_ratings, df_movies, genres_dict)\n",
    "df_movie_genres.head(5)"
   ]
  },
  {
   "cell_type": "markdown",
   "metadata": {},
   "source": [
    "#### Tags features"
   ]
  },
  {
   "cell_type": "code",
   "execution_count": null,
   "metadata": {},
   "outputs": [],
   "source": [
    "def movie_tags(df_ratings, df_genome, rel_tags_dict):\n",
    "    df_movie_genome_list = genome_list_per_movie(df_ratings, df_genome)\n",
    "    df_movie_tags = tags_features_per_movie(df_movie_genome_list, rel_tags_dict)\n",
    "    return(df_movie_tags)\n",
    "\n",
    "def genome_list_per_movie(df_ratings, df_genome):\n",
    "    df_rating_movies = df_ratings[['movieId']].drop_duplicates(keep='first')\n",
    "    df_movie_genome = pd.merge(df_rating_movies, df_genome, on='movieId', how='inner')\n",
    "    df_movie_genome_list = df_movie_genome\\\n",
    "        .groupby('movieId')[['tag', 'relevance']]\\\n",
    "        .apply(lambda x:pd.Series({'genome': x.values.tolist()}))\\\n",
    "        .reset_index()\n",
    "    df_movie_genome_list.rename(columns={'genome':'genome_list'}, inplace=True)\n",
    "    return(df_movie_genome_list)\n",
    "\n",
    "def tags_features_per_movie(df_movie_genome_list, rel_tags_dict):\n",
    "    df_movie_genome_list['tags_features'] = df_movie_genome_list\\\n",
    "        .apply(lambda x: get_rel_tags_features(x['genome_list'], rel_tags_dict), axis=1)\n",
    "    df_movie_tags = df_movie_genome_list[['movieId', 'tags_features']]\n",
    "    return(df_movie_tags)\n",
    "\n",
    "def get_rel_tags_features(genome_list, rel_tags_dict):\n",
    "    tags_num = len(rel_tags_dict)\n",
    "    rel_tags_features = [0] * tags_num\n",
    "    try:\n",
    "        rel_genome = [genome for genome in genome_list if genome[0] in rel_tags_dict.keys()]\n",
    "    except:\n",
    "        rel_genome = []\n",
    "    if (len(rel_genome) > 0):\n",
    "        for tag, relevance in rel_genome:\n",
    "            rel_tags_features[rel_tags_dict[tag]] = relevance\n",
    "    return(rel_tags_features)\n",
    "\n",
    "df_movie_tags = movie_tags(df_ratings, df_genome, rel_tags_dict)\n",
    "df_movie_tags.head(5)"
   ]
  },
  {
   "cell_type": "markdown",
   "metadata": {},
   "source": [
    "#### Merge Features"
   ]
  },
  {
   "cell_type": "code",
   "execution_count": null,
   "metadata": {},
   "outputs": [],
   "source": [
    "def movie_features(df_ratings, df_movies, df_genome, genres_dict, rel_tags_dict):\n",
    "    df_movie_users = movie_users(df_ratings)\n",
    "    df_movie_genres = movie_genres(df_ratings, df_movies, genres_dict)\n",
    "    df_movie_tags = movie_tags(df_ratings, df_genome, rel_tags_dict)\n",
    "    df_movie_ug = pd.merge(df_movie_users, df_movie_genres, on='movieId', how='inner')\n",
    "    df_movie_ugt = pd.merge(df_movie_ug, df_movie_tags, on='movieId', how='inner')\n",
    "\n",
    "    df_movie_ugt['features_u'] = df_movie_ugt.apply(lambda x: [x['users_perc']], axis=1)\n",
    "    df_movie_ugt['features_ug'] = df_movie_ugt.\\\n",
    "        apply(lambda x: [x['users_perc']] + x['genres_features'], axis=1)\n",
    "    df_movie_ugt['features_ugt'] = df_movie_ugt.\\\n",
    "        apply(lambda x: [x['users_perc']] + x['genres_features'] + x['tags_features'], axis=1)\n",
    "    df_movie_features = df_movie_ugt[['movieId', 'features_u', 'features_ug', 'features_ugt']]\n",
    "    return(df_movie_features)\n",
    "\n",
    "df_movie_features = movie_features(df_ratings, df_movies, df_genome, genres_dict, rel_tags_dict)\n",
    "df_movie_features.head(5)"
   ]
  }
 ],
 "metadata": {
  "kernelspec": {
   "display_name": "Python 3",
   "language": "python",
   "name": "python3"
  },
  "language_info": {
   "codemirror_mode": {
    "name": "ipython",
    "version": 3
   },
   "file_extension": ".py",
   "mimetype": "text/x-python",
   "name": "python",
   "nbconvert_exporter": "python",
   "pygments_lexer": "ipython3",
   "version": "3.7.0"
  }
 },
 "nbformat": 4,
 "nbformat_minor": 2
}
